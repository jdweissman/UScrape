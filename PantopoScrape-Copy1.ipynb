{
 "cells": [
  {
   "cell_type": "code",
   "execution_count": null,
   "metadata": {},
   "outputs": [],
   "source": [
    "'''To run this script, you will want to cut and paste the blocks in to a python script. Text like this is use to describe the block below it. This first block will open a broswer, log in to canvas, transfer to pantopo, and select the 250 item view.'''"
   ]
  },
  {
   "cell_type": "code",
   "execution_count": 6,
   "metadata": {},
   "outputs": [],
   "source": [
    "# This is program has the following requirements:\n",
    "# Pythone 3\n",
    "# Chrome browser\n",
    "# Chromedriver \n",
    "# Selenium \n",
    "# BeutifulSoup4 \n",
    "# In addtion to these requirements, you need to change the chrome driver path to whereever you installed it.\n",
    "# *** be sure and put YOUR username and password in to the script so that it can authenticate.\n",
    "# This script uses chrome to download LOTS of large files. be sure and point chromes dowload directory \n",
    "# to a drive with at least 250 gigs of freespace\n",
    "\n",
    "\n",
    "from urllib.request import urlopen\n",
    "from selenium import webdriver\n",
    "from selenium.webdriver.common.action_chains import ActionChains\n",
    "from selenium.webdriver.common.keys import Keys\n",
    "from selenium.webdriver.support.ui import WebDriverWait\n",
    "from bs4 import BeautifulSoup\n",
    "import time\n",
    "\n",
    "#act = ActionChains(driver)\n",
    "\n",
    "# open up a browser to canvas and select the login button\n",
    "# Change the path below to whereever you dowloaded the chromedriver on your machine\n",
    "driver = webdriver.Chrome('/Users/jesseweissman/opt/spark-2.4.5-bin-hadoop2.7/bin/chromedriver')\n",
    "driver.get(\"https://canvas.uw.edu/\")\n",
    "btn = WebDriverWait(driver, 10).until(lambda driver:driver.find_element_by_id('login')) \n",
    "btn.click()\n",
    "\n",
    "#submit login information to canvas\n",
    "\n",
    "box1 = WebDriverWait(driver, 10).until(lambda driver: driver.find_element_by_id('weblogin_netid'))\n",
    "box1.send_keys('YourUsername')  # Change to YOUR USERNAME!!\n",
    "\n",
    "box2 = WebDriverWait(driver, 10).until(lambda driver: driver.find_element_by_id('weblogin_password'))\n",
    "box2.send_keys('YourPassword')  # Change to YOUR PASSWORD!!\n",
    "\n",
    "sub_btn = WebDriverWait(driver, 10).until(lambda driver: driver.find_element_by_id('submit_button'))\n",
    "#sub_btn = driver.find_element_by_id('submit_button') \n",
    "sub_btn.click()\n",
    "\n",
    "driver.get(\"https://uw.hosted.panopto.com/Panopto/Pages/Sessions/List.aspx#maxResults=250\")\n",
    "\n",
    "#Submit login info from cache\n",
    "\n",
    "Panbtn1 = WebDriverWait(driver, 10).until(lambda driver:driver.find_element_by_id('loginButton')) \n",
    "Panbtn1.click()\n",
    "\n",
    "Panbtn2 = WebDriverWait(driver, 10).until(lambda driver:driver.find_element_by_id('loginControl_externalLoginButton')) \n",
    "Panbtn2.click()\n",
    "\n"
   ]
  },
  {
   "cell_type": "code",
   "execution_count": null,
   "metadata": {},
   "outputs": [],
   "source": [
    "'''This block will dump the urls from the 250 item views (Shortented for brevity). Note, there is 300+ urls so the second page needs to be grabbed as well. '''"
   ]
  },
  {
   "cell_type": "code",
   "execution_count": 8,
   "metadata": {},
   "outputs": [
    {
     "name": "stdout",
     "output_type": "stream",
     "text": [
      "https://uw.hosted.panopto.com/Panopto/Pages/Viewer.aspx?id=408e3b1c-5808-4acf-843a-aad201188c9e\n",
      "https://uw.hosted.panopto.com/Panopto/Pages/Viewer.aspx?id=6ade5659-47e4-4c2c-95d0-aab7006f9d36\n",
      "https://uw.hosted.panopto.com/Panopto/Pages/Viewer.aspx?id=6c6761c9-9d46-4ed2-b13f-aa760126c319\n",
      "https://uw.hosted.panopto.com/Panopto/Pages/Viewer.aspx?id=04ea9b7a-9d73-4df4-b0db-aa7601257f2c\n",
      "https://uw.hosted.panopto.com/Panopto/Pages/Viewer.aspx?id=07209181-7aba-4457-be47-aa970128bcb4\n",
      "https://uw.hosted.panopto.com/Panopto/Pages/Viewer.aspx?id=43339f2e-7896-49b7-a148-aa97012303e5\n",
      "https://uw.hosted.panopto.com/Panopto/Pages/Viewer.aspx?id=5fbe0fef-f1ff-426b-acb1-aa8d00563752\n",
      "https://uw.hosted.panopto.com/Panopto/Pages/Viewer.aspx?id=104b7d97-abd8-412d-91b2-aa76011dd92b\n",
      "https://uw.hosted.panopto.com/Panopto/Pages/Viewer.aspx?id=2bfb6157-7186-4e87-ab7f-aa7f00542bf3\n",
      "https://uw.hosted.panopto.com/Panopto/Pages/Viewer.aspx?id=3e1f2684-3ba5-4bba-ba1b-aa76011b768b\n",
      "https://uw.hosted.panopto.com/Panopto/Pages/Viewer.aspx?id=496c1bfe-2cc0-4fe6-a79a-aa730178a36d\n",
      "https://uw.hosted.panopto.com/Panopto/Pages/Viewer.aspx?id=1fb1e8be-b3f2-468a-a5c5-aa0f001b37bc\n",
      "https://uw.hosted.panopto.com/Panopto/Pages/Viewer.aspx?id=206ff83b-e2d1-4214-a174-aa0f001b857e\n",
      "https://uw.hosted.panopto.com/Panopto/Pages/Viewer.aspx?id=ea323229-a4e5-48ed-b0c6-aa0f00175980\n",
      "https://uw.hosted.panopto.com/Panopto/Pages/Viewer.aspx?id=e35b8513-dd3c-495f-b7be-aa0f0017b329\n",
      "https://uw.hosted.panopto.com/Panopto/Pages/Viewer.aspx?id=6c2f62b8-67b6-417f-ae11-aa0f00151676\n",
      "https://uw.hosted.panopto.com/Panopto/Pages/Viewer.aspx?id=9c41eee2-b829-4671-ac03-aa0f0017fdd5\n",
      "https://uw.hosted.panopto.com/Panopto/Pages/Viewer.aspx?id=715e1b63-e128-4e52-b10a-aa0f00156bfd\n",
      "https://uw.hosted.panopto.com/Panopto/Pages/Viewer.aspx?id=83aa237b-75ae-4d5e-97a9-aa0f001543c0\n",
      "https://uw.hosted.panopto.com/Panopto/Pages/Viewer.aspx?id=4d39a4be-cd40-4647-a13c-aa0f00158c4b\n",
      "...\n"
     ]
    }
   ],
   "source": [
    "time.sleep(5)\n",
    "html = driver.page_source\n",
    "soup = BeautifulSoup(html, 'html.parser')\n",
    "\n",
    "results = soup.find_all(\"div\", {\"class\": \"item-title title-link ellipsis\"})\n",
    "#results = soup.find_all(\"a\", {\"class\": \"detail-title\"})\n",
    "#for result in results:\n",
    " #   print(result.find(\"div\", {\"class\": \"detail-title\"}).get_href)\n",
    "    \n",
    "for link in soup.find_all('a', {\"class\": \"detail-title\"}):\n",
    "    print(link.get('href'))"
   ]
  },
  {
   "cell_type": "code",
   "execution_count": null,
   "metadata": {},
   "outputs": [],
   "source": [
    "'''This block dumps the class titles (Shortented for brevity). I want to use the titles to name the corosponding downloaded files '''"
   ]
  },
  {
   "cell_type": "code",
   "execution_count": 22,
   "metadata": {},
   "outputs": [
    {
     "name": "stdout",
     "output_type": "stream",
     "text": [
      "M1L1 Practice Assignment Solution\n",
      "Solution to Problem Set 4\n",
      "TMMBA 514: Decision Modeling - 08/26/2019\n",
      "TMMBA 514: Decision Modeling - 08/17/2019\n",
      "Solution to Problem Set 3 (Q2&Q3)\n",
      "Solution to Problem Set 3 (Q1)\n",
      "Solution to Problem Set 2\n",
      "TMMBA 514: Decision Modeling - 07/13/2019\n",
      "Solution to Problem Set 1\n",
      "TMMBA 514: Decision Modeling - 06/29/2019\n",
      "TMMBA 514: Decision Modeling - 06/24/2019 (tech issue: classroom camera only; computer/document camera view missing)\n",
      "TMMBA 519B: Enhancing Leadership Effectiveness - 06/05/2019\n",
      "TMMBA 519A: Enhancing Leadership Effectiveness - 06/03/2019\n",
      "TMMBA 519B: Enhancing Leadership Effectiveness - 05/29/2019\n",
      "TMMBA 519A: Enhancing Leadership Effectiveness - 05/28/2019\n",
      "OPMGT 565A: Business Analytics: Tools for Big Data - 05/25/2019\n",
      "TMMBA 524B: Leading Organizational Change - 05/25/2019\n",
      "TMMBA 524A: Leading Organizational Change - 05/25/2019\n",
      "OPMGT 565B: Business Analytics: Tools for Big Data - 05/25/2019\n",
      "TMMBA 519B: Enhancing Leadership Effectiveness - 05/22/2019\n",
      "...\n"
     ]
    }
   ],
   "source": [
    "time.sleep(5)\n",
    "html = driver.page_source\n",
    "soup = BeautifulSoup(html, 'html.parser')\n",
    "\n",
    "#results = soup.find_all(\"div\", {\"class\": \"item-title title-link ellipsis\"})\n",
    "#results = soup.find_all(\"a\", {\"class\": \"detail-title\"})\n",
    "#for result in results:\n",
    " #   print(result.find(\"div\", {\"class\": \"detail-title\"}).get_href)\n",
    "    \n",
    "for text in soup.find_all('span', {\"class\": \"detail-title\"}):\n",
    "    print(text.string)"
   ]
  },
  {
   "cell_type": "code",
   "execution_count": null,
   "metadata": {},
   "outputs": [],
   "source": [
    "'''Next, I need to run a loop in to go to the link, write the title as a variable, find the mp4 movie, and dowload that file using the title as the name.'''"
   ]
  },
  {
   "cell_type": "code",
   "execution_count": null,
   "metadata": {},
   "outputs": [],
   "source": []
  }
 ],
 "metadata": {
  "kernelspec": {
   "display_name": "Python 3",
   "language": "python",
   "name": "python3"
  },
  "language_info": {
   "codemirror_mode": {
    "name": "ipython",
    "version": 3
   },
   "file_extension": ".py",
   "mimetype": "text/x-python",
   "name": "python",
   "nbconvert_exporter": "python",
   "pygments_lexer": "ipython3",
   "version": "3.8.0"
  }
 },
 "nbformat": 4,
 "nbformat_minor": 4
}
